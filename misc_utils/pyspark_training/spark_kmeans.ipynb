{
 "cells": [
  {
   "cell_type": "code",
   "execution_count": 1,
   "id": "formal-delivery",
   "metadata": {},
   "outputs": [],
   "source": [
    "import pyspark\n",
    "import pyspark.sql\n",
    "import pyspark.ml\n",
    "import pyspark.sql.types as pst\n",
    "import pyspark.sql.functions\n",
    "import pyspark.ml.stat\n",
    "import numpy as np\n",
    "import scipy\n",
    "import scipy.spatial"
   ]
  },
  {
   "cell_type": "code",
   "execution_count": 2,
   "id": "fifteen-exploration",
   "metadata": {},
   "outputs": [],
   "source": [
    "sc = pyspark.SparkContext(\"local\", \"kNN\")\n",
    "ss = pyspark.sql.SparkSession(sc)"
   ]
  },
  {
   "cell_type": "code",
   "execution_count": 3,
   "id": "handy-import",
   "metadata": {},
   "outputs": [],
   "source": [
    "schema = pst.StructType(\n",
    "    [\n",
    "        pst.StructField(\"col_A\", pst.FloatType()),\n",
    "        pst.StructField(\"col_B\", pst.FloatType()),\n",
    "        pst.StructField(\"col_C\", pst.FloatType()),\n",
    "        pst.StructField(\"col_D\", pst.FloatType()),\n",
    "        pst.StructField(\"col_E\", pst.FloatType()),\n",
    "        pst.StructField(\"col_F\", pst.FloatType()),\n",
    "        pst.StructField(\"col_G\", pst.FloatType()),\n",
    "    ]\n",
    ")"
   ]
  },
  {
   "cell_type": "code",
   "execution_count": 4,
   "id": "placed-discipline",
   "metadata": {},
   "outputs": [],
   "source": [
    "n_clusters = 3"
   ]
  },
  {
   "cell_type": "code",
   "execution_count": 5,
   "id": "academic-pavilion",
   "metadata": {},
   "outputs": [],
   "source": [
    "df = ss.read.csv(\"data.csv\", schema=schema, header=True)"
   ]
  },
  {
   "cell_type": "code",
   "execution_count": 6,
   "id": "rough-jesus",
   "metadata": {},
   "outputs": [],
   "source": [
    "va = pyspark.ml.feature.VectorAssembler(inputCols=df.columns, outputCol=\"features\")\n",
    "df = va.transform(df).select(\"features\")"
   ]
  },
  {
   "cell_type": "code",
   "execution_count": 7,
   "id": "sorted-chile",
   "metadata": {},
   "outputs": [
    {
     "name": "stdout",
     "output_type": "stream",
     "text": [
      "+--------------------+\n",
      "|            features|\n",
      "+--------------------+\n",
      "|[-0.7103070020675...|\n",
      "|[0.50356602668762...|\n",
      "|[1.11614501476287...|\n",
      "|[0.24310199916362...|\n",
      "|[0.48134401440620...|\n",
      "+--------------------+\n",
      "only showing top 5 rows\n",
      "\n"
     ]
    }
   ],
   "source": [
    "df.show(5)"
   ]
  },
  {
   "cell_type": "code",
   "execution_count": 10,
   "id": "twenty-charles",
   "metadata": {},
   "outputs": [],
   "source": [
    "def calc_dists(df, n_clusters, clusters=None):\n",
    "    if clusters is None:\n",
    "        clusters = df.take(n_clusters)\n",
    "\n",
    "    col = pyspark.sql.functions.col(\"features\")\n",
    "    dist_cols = []\n",
    "    \n",
    "    for i, cluster in enumerate(clusters):\n",
    "        cls_udf = pyspark.sql.functions.udf(\n",
    "            lambda row: float(scipy.spatial.distance.euclidean(row, cluster)),\n",
    "            pst.FloatType())\n",
    "        \n",
    "        col_name = f\"cluster_dist_{i}\"\n",
    "        df = df.withColumn(col_name, cls_udf(col))\n",
    "        dist_cols.append(col_name)\n",
    "    \n",
    "    va = pyspark.ml.feature.VectorAssembler(inputCols=dist_cols, outputCol=\"clust_dists\")\n",
    "    \n",
    "    if \"clust_dists\" in df.columns:\n",
    "        df = df.drop(\"clust_dists\")\n",
    "    \n",
    "    df = va.transform(df).select([\"features\", \"clust_dists\"])\n",
    "    \n",
    "    return df\n",
    "\n",
    "\n",
    "def kmeans(df, n_clusters, n_iter=10):\n",
    "    summ = pyspark.ml.stat.Summarizer.metrics(\"mean\")\n",
    "    \n",
    "    argmin_udf = pyspark.sql.functions.udf(\n",
    "        lambda row: int(np.argmin(row)),\n",
    "        pst.IntegerType())\n",
    "    \n",
    "    clust_id_col = pyspark.sql.functions.col(\"clust_dists\")\n",
    "    \n",
    "    fun_assign_cluster = argmin_udf(clust_id_col)\n",
    "    clusters = None\n",
    "    \n",
    "    for i in range(n_iter):\n",
    "        df = calc_dists(df, n_clusters, clusters=clusters)\n",
    "        \n",
    "        df = df.withColumn(\"cluster_id\", fun_assign_cluster)\n",
    "        \n",
    "        clusters = (\n",
    "            df.groupBy(\"cluster_id\")\n",
    "            .agg(summ.summary(df.features)\n",
    "            .alias(\"cluster_coords\"))\n",
    "            .select(\"cluster_coords\").collect()\n",
    "        )\n",
    "        \n",
    "    return df"
   ]
  },
  {
   "cell_type": "code",
   "execution_count": 12,
   "id": "precise-mandate",
   "metadata": {},
   "outputs": [
    {
     "name": "stdout",
     "output_type": "stream",
     "text": [
      "+--------------------+--------------------+----------+\n",
      "|            features|         clust_dists|cluster_id|\n",
      "+--------------------+--------------------+----------+\n",
      "|[-0.7103070020675...|[32.3831634521484...|         2|\n",
      "|[0.50356602668762...|[120.000160217285...|         1|\n",
      "|[1.11614501476287...|[46.5675544738769...|         2|\n",
      "|[0.24310199916362...|[66.8327865600586...|         0|\n",
      "|[0.48134401440620...|[145.702499389648...|         1|\n",
      "+--------------------+--------------------+----------+\n",
      "only showing top 5 rows\n",
      "\n"
     ]
    }
   ],
   "source": [
    "df = kmeans(df.select(\"features\"), 3, n_iter=10)\n",
    "df.show(5)"
   ]
  },
  {
   "cell_type": "code",
   "execution_count": null,
   "id": "artistic-productivity",
   "metadata": {},
   "outputs": [],
   "source": []
  }
 ],
 "metadata": {
  "kernelspec": {
   "display_name": "Python 3",
   "language": "python",
   "name": "python3"
  },
  "language_info": {
   "codemirror_mode": {
    "name": "ipython",
    "version": 3
   },
   "file_extension": ".py",
   "mimetype": "text/x-python",
   "name": "python",
   "nbconvert_exporter": "python",
   "pygments_lexer": "ipython3",
   "version": "3.9.5"
  }
 },
 "nbformat": 4,
 "nbformat_minor": 5
}
